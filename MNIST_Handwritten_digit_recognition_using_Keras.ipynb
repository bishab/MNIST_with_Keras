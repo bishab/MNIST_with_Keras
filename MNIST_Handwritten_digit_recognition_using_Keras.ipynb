{
  "nbformat": 4,
  "nbformat_minor": 0,
  "metadata": {
    "colab": {
      "name": "MNIST Handwritten digit recognition using Keras.ipynb",
      "provenance": [],
      "collapsed_sections": []
    },
    "kernelspec": {
      "name": "python3",
      "display_name": "Python 3"
    }
  },
  "cells": [
    {
      "cell_type": "markdown",
      "metadata": {
        "id": "Fnk3VpWL4U-l",
        "colab_type": "text"
      },
      "source": [
        "# **MNIST Handwritten Digit Recognition using Keras**\n"
      ]
    },
    {
      "cell_type": "markdown",
      "metadata": {
        "id": "vr5kR1cD_EJ2",
        "colab_type": "text"
      },
      "source": [
        "Without any further ado, let's see the implementation."
      ]
    },
    {
      "cell_type": "code",
      "metadata": {
        "id": "fQITwqmvdZgQ",
        "colab_type": "code",
        "colab": {}
      },
      "source": [
        "from tensorflow import keras\n",
        "from keras import regularizers\n",
        "import numpy as np\n",
        "import matplotlib.pyplot as plt"
      ],
      "execution_count": 160,
      "outputs": []
    },
    {
      "cell_type": "code",
      "metadata": {
        "id": "Pgovuwmcf1ZR",
        "colab_type": "code",
        "colab": {}
      },
      "source": [
        "data=keras.datasets.mnist\n",
        "(x_train,y_train),(x_test,y_test)=data.load_data()"
      ],
      "execution_count": 144,
      "outputs": []
    },
    {
      "cell_type": "markdown",
      "metadata": {
        "id": "E2uSkyNj6Xqm",
        "colab_type": "text"
      },
      "source": [
        "Let's scale it by dividing with 255 since the color value is given in the range of zero to two-fiftyfive"
      ]
    },
    {
      "cell_type": "code",
      "metadata": {
        "id": "3anaPjYnurvD",
        "colab_type": "code",
        "colab": {}
      },
      "source": [
        "x_train=x_train/255\n",
        "x_test=x_test/255"
      ],
      "execution_count": 145,
      "outputs": []
    },
    {
      "cell_type": "markdown",
      "metadata": {
        "id": "LwDyAAaK6l8d",
        "colab_type": "text"
      },
      "source": [
        "And ofcourse, Validation data is a must. \n",
        "People don't seem to use the separate validation data, but that is not the standard way to go with, cause that way our test data won't be very new to the model!"
      ]
    },
    {
      "cell_type": "code",
      "metadata": {
        "id": "p8noch0JnRWe",
        "colab_type": "code",
        "colab": {}
      },
      "source": [
        "x_train,y_train=x_train[5000:],y_train[5000:]\n",
        "x_valid,y_valid=x_train[:5000],y_train[:5000]"
      ],
      "execution_count": 146,
      "outputs": []
    },
    {
      "cell_type": "markdown",
      "metadata": {
        "id": "yW6EZCY_62zL",
        "colab_type": "text"
      },
      "source": [
        "Time for creating a very robust model!!🤘"
      ]
    },
    {
      "cell_type": "code",
      "metadata": {
        "id": "ZncrFL0BgGxM",
        "colab_type": "code",
        "colab": {
          "base_uri": "https://localhost:8080/",
          "height": 286
        },
        "outputId": "9305cd87-3eda-45ba-bf8c-3c95c1a0bdf9"
      },
      "source": [
        "#Note: I have commented those lines that are used for regularizing the model. Don't touch it unless you want to play around with it!\n",
        "model=keras.models.Sequential()\n",
        "model.add(keras.layers.Input(shape=[28,28]))\n",
        "model.add(keras.layers.Flatten())\n",
        "model.add(keras.layers.Dense(300,activation='relu'))\n",
        "#model.add(keras.layers.Dense(300,activation='relu'),kernel_regularizer=regularizers.l2(0.02))\n",
        "model.add(keras.layers.Dense(200,activation='relu'))\n",
        "#model.add(keras.layers.Dense(300,activation='relu'),kernel_regularizer=regularizers.l2(0.02))\n",
        "model.add(keras.layers.Dense(10,activation='softmax'))\n",
        "model.summary()"
      ],
      "execution_count": 147,
      "outputs": [
        {
          "output_type": "stream",
          "text": [
            "Model: \"sequential_16\"\n",
            "_________________________________________________________________\n",
            "Layer (type)                 Output Shape              Param #   \n",
            "=================================================================\n",
            "flatten_15 (Flatten)         (None, 784)               0         \n",
            "_________________________________________________________________\n",
            "dense_36 (Dense)             (None, 300)               235500    \n",
            "_________________________________________________________________\n",
            "dense_37 (Dense)             (None, 200)               60200     \n",
            "_________________________________________________________________\n",
            "dense_38 (Dense)             (None, 10)                2010      \n",
            "=================================================================\n",
            "Total params: 297,710\n",
            "Trainable params: 297,710\n",
            "Non-trainable params: 0\n",
            "_________________________________________________________________\n"
          ],
          "name": "stdout"
        }
      ]
    },
    {
      "cell_type": "code",
      "metadata": {
        "id": "0kcIYgzyg-dn",
        "colab_type": "code",
        "colab": {
          "base_uri": "https://localhost:8080/",
          "height": 533
        },
        "outputId": "70517a08-6210-47cd-9dc4-f58bdb9d64fb"
      },
      "source": [
        "keras.utils.plot_model(model,show_shapes=True)"
      ],
      "execution_count": 148,
      "outputs": [
        {
          "output_type": "execute_result",
          "data": {
            "image/png": "[encoded data removed]",
            "text/plain": [
              "<IPython.core.display.Image object>"
            ]
          },
          "metadata": {
            "tags": []
          },
          "execution_count": 148
        }
      ]
    },
    {
      "cell_type": "code",
      "metadata": {
        "id": "mXaaAtrAhrjL",
        "colab_type": "code",
        "colab": {}
      },
      "source": [
        "model.compile(optimizer='adam',metrics=['accuracy'],loss='sparse_categorical_crossentropy')"
      ],
      "execution_count": 149,
      "outputs": []
    },
    {
      "cell_type": "code",
      "metadata": {
        "id": "wk-z6atFh1j8",
        "colab_type": "code",
        "colab": {
          "base_uri": "https://localhost:8080/",
          "height": 689
        },
        "outputId": "e1f8c125-0855-454f-b32a-34a2ff01cbc0"
      },
      "source": [
        "history=model.fit(x_train,y_train,batch_size=32,epochs=20,validation_data=(x_valid,y_valid))"
      ],
      "execution_count": 150,
      "outputs": [
        {
          "output_type": "stream",
          "text": [
            "Epoch 1/20\n",
            "1719/1719 [==============================] - 6s 4ms/step - loss: 0.2062 - accuracy: 0.9381 - val_loss: 0.1038 - val_accuracy: 0.9686\n",
            "Epoch 2/20\n",
            "1719/1719 [==============================] - 6s 4ms/step - loss: 0.0877 - accuracy: 0.9732 - val_loss: 0.0830 - val_accuracy: 0.9726\n",
            "Epoch 3/20\n",
            "1719/1719 [==============================] - 6s 4ms/step - loss: 0.0582 - accuracy: 0.9815 - val_loss: 0.0409 - val_accuracy: 0.9868\n",
            "Epoch 4/20\n",
            "1719/1719 [==============================] - 6s 4ms/step - loss: 0.0435 - accuracy: 0.9857 - val_loss: 0.0274 - val_accuracy: 0.9926\n",
            "Epoch 5/20\n",
            "1719/1719 [==============================] - 6s 4ms/step - loss: 0.0349 - accuracy: 0.9886 - val_loss: 0.0234 - val_accuracy: 0.9944\n",
            "Epoch 6/20\n",
            "1719/1719 [==============================] - 6s 4ms/step - loss: 0.0283 - accuracy: 0.9909 - val_loss: 0.0352 - val_accuracy: 0.9892\n",
            "Epoch 7/20\n",
            "1719/1719 [==============================] - 6s 4ms/step - loss: 0.0231 - accuracy: 0.9921 - val_loss: 0.0168 - val_accuracy: 0.9944\n",
            "Epoch 8/20\n",
            "1719/1719 [==============================] - 6s 4ms/step - loss: 0.0222 - accuracy: 0.9930 - val_loss: 0.0265 - val_accuracy: 0.9922\n",
            "Epoch 9/20\n",
            "1719/1719 [==============================] - 6s 4ms/step - loss: 0.0181 - accuracy: 0.9942 - val_loss: 0.0148 - val_accuracy: 0.9950\n",
            "Epoch 10/20\n",
            "1719/1719 [==============================] - 6s 4ms/step - loss: 0.0189 - accuracy: 0.9939 - val_loss: 0.0157 - val_accuracy: 0.9946\n",
            "Epoch 11/20\n",
            "1719/1719 [==============================] - 6s 4ms/step - loss: 0.0128 - accuracy: 0.9956 - val_loss: 0.0085 - val_accuracy: 0.9976\n",
            "Epoch 12/20\n",
            "1719/1719 [==============================] - 6s 4ms/step - loss: 0.0163 - accuracy: 0.9945 - val_loss: 0.0110 - val_accuracy: 0.9962\n",
            "Epoch 13/20\n",
            "1719/1719 [==============================] - 6s 3ms/step - loss: 0.0152 - accuracy: 0.9953 - val_loss: 0.0095 - val_accuracy: 0.9960\n",
            "Epoch 14/20\n",
            "1719/1719 [==============================] - 6s 3ms/step - loss: 0.0116 - accuracy: 0.9964 - val_loss: 0.0066 - val_accuracy: 0.9974\n",
            "Epoch 15/20\n",
            "1719/1719 [==============================] - 6s 3ms/step - loss: 0.0136 - accuracy: 0.9959 - val_loss: 0.0130 - val_accuracy: 0.9958\n",
            "Epoch 16/20\n",
            "1719/1719 [==============================] - 6s 3ms/step - loss: 0.0116 - accuracy: 0.9964 - val_loss: 0.0049 - val_accuracy: 0.9982\n",
            "Epoch 17/20\n",
            "1719/1719 [==============================] - 6s 3ms/step - loss: 0.0110 - accuracy: 0.9967 - val_loss: 0.0020 - val_accuracy: 0.9992\n",
            "Epoch 18/20\n",
            "1719/1719 [==============================] - 6s 3ms/step - loss: 0.0106 - accuracy: 0.9972 - val_loss: 0.0123 - val_accuracy: 0.9964\n",
            "Epoch 19/20\n",
            "1719/1719 [==============================] - 6s 3ms/step - loss: 0.0114 - accuracy: 0.9966 - val_loss: 0.0020 - val_accuracy: 0.9992\n",
            "Epoch 20/20\n",
            "1719/1719 [==============================] - 6s 4ms/step - loss: 0.0096 - accuracy: 0.9973 - val_loss: 0.0130 - val_accuracy: 0.9956\n"
          ],
          "name": "stdout"
        }
      ]
    },
    {
      "cell_type": "markdown",
      "metadata": {
        "id": "2igehwFo7EVw",
        "colab_type": "text"
      },
      "source": [
        "Okay. Done with fitting. Let's analyze our model's performance using some graphs."
      ]
    },
    {
      "cell_type": "code",
      "metadata": {
        "id": "6r1oPGvWiEpP",
        "colab_type": "code",
        "colab": {
          "base_uri": "https://localhost:8080/",
          "height": 296
        },
        "outputId": "f1034ca6-7ed9-4a4f-dc6e-13b2aa9721d0"
      },
      "source": [
        "plt.plot(history.history['loss'],'r--')\n",
        "plt.plot(history.history['val_loss'],'b--')\n",
        "plt.grid()\n",
        "plt.xlabel('epochs')\n",
        "plt.ylabel('losses')\n",
        "plt.legend(['training','validating'])\n"
      ],
      "execution_count": 158,
      "outputs": [
        {
          "output_type": "execute_result",
          "data": {
            "text/plain": [
              "<matplotlib.legend.Legend at 0x7fc660445cc0>"
            ]
          },
          "metadata": {
            "tags": []
          },
          "execution_count": 158
        },
        {
          "output_type": "display_data",
          "data": {
            "image/png": "[encoded data removed]",
            "text/plain": [
              "<Figure size 432x288 with 1 Axes>"
            ]
          },
          "metadata": {
            "tags": [],
            "needs_background": "light"
          }
        }
      ]
    },
    {
      "cell_type": "code",
      "metadata": {
        "id": "_wm2vRlpi4e0",
        "colab_type": "code",
        "colab": {
          "base_uri": "https://localhost:8080/",
          "height": 296
        },
        "outputId": "20fdec15-2ee9-491a-da87-2c104735004d"
      },
      "source": [
        "plt.plot(history.history['accuracy'],'r--')\n",
        "plt.plot(history.history['val_accuracy'],'b--')\n",
        "plt.grid()\n",
        "plt.xlabel('epochs')\n",
        "plt.ylabel('accuracies')\n",
        "plt.legend(['training','validating'])"
      ],
      "execution_count": 159,
      "outputs": [
        {
          "output_type": "execute_result",
          "data": {
            "text/plain": [
              "<matplotlib.legend.Legend at 0x7fc660432c50>"
            ]
          },
          "metadata": {
            "tags": []
          },
          "execution_count": 159
        },
        {
          "output_type": "display_data",
          "data": {
            "image/png": "[encoded data removed]",
            "text/plain": [
              "<Figure size 432x288 with 1 Axes>"
            ]
          },
          "metadata": {
            "tags": [],
            "needs_background": "light"
          }
        }
      ]
    },
    {
      "cell_type": "code",
      "metadata": {
        "id": "OHkmHCvjjgRI",
        "colab_type": "code",
        "colab": {
          "base_uri": "https://localhost:8080/",
          "height": 34
        },
        "outputId": "5565d299-820d-45aa-c6fb-f4d00e9707c2"
      },
      "source": [
        "mse=model.evaluate(x_test,y_test)\n"
      ],
      "execution_count": 154,
      "outputs": [
        {
          "output_type": "stream",
          "text": [
            "313/313 [==============================] - 0s 1ms/step - loss: 0.1310 - accuracy: 0.9796\n"
          ],
          "name": "stdout"
        }
      ]
    },
    {
      "cell_type": "markdown",
      "metadata": {
        "id": "AvuOc2BH7TJb",
        "colab_type": "text"
      },
      "source": [
        "Here it shows the accuracy I obtained is almost cent per cent. But wait! This can be due to overfitting too!"
      ]
    },
    {
      "cell_type": "markdown",
      "metadata": {
        "id": "fRyyLIa67oEL",
        "colab_type": "text"
      },
      "source": [
        "I will check the performance using regularizers and come to the conclusing if the model contained overfitting issues or not.\n"
      ]
    },
    {
      "cell_type": "code",
      "metadata": {
        "id": "kfs0aI_onOt5",
        "colab_type": "code",
        "colab": {}
      },
      "source": [
        "x_test[:10]\n",
        "y_test[:10]\n",
        "y_pred=model.predict(x_test[:10])\n",
        "y_pred\n",
        "y_pred=np.round(y_pred)\n",
        "#here y_pred gave me 10 values. So the value which is the highest one is the corresponding number's location."
      ],
      "execution_count": 155,
      "outputs": []
    },
    {
      "cell_type": "code",
      "metadata": {
        "id": "LM3kNHC1wIQJ",
        "colab_type": "code",
        "colab": {
          "base_uri": "https://localhost:8080/",
          "height": 34
        },
        "outputId": "b592b607-5c37-4db2-ec62-98ebe745ec3f"
      },
      "source": [
        "print(y_test[:10])"
      ],
      "execution_count": 156,
      "outputs": [
        {
          "output_type": "stream",
          "text": [
            "[7 2 1 0 4 1 4 9 5 9]\n"
          ],
          "name": "stdout"
        }
      ]
    },
    {
      "cell_type": "code",
      "metadata": {
        "id": "toGGcxgNwaOF",
        "colab_type": "code",
        "colab": {
          "base_uri": "https://localhost:8080/",
          "height": 185
        },
        "outputId": "7c185534-2d52-47e2-814c-57ef7904c561"
      },
      "source": [
        "y_pred"
      ],
      "execution_count": 157,
      "outputs": [
        {
          "output_type": "execute_result",
          "data": {
            "text/plain": [
              "array([[0., 0., 0., 0., 0., 0., 0., 1., 0., 0.],\n",
              "       [0., 0., 1., 0., 0., 0., 0., 0., 0., 0.],\n",
              "       [0., 1., 0., 0., 0., 0., 0., 0., 0., 0.],\n",
              "       [1., 0., 0., 0., 0., 0., 0., 0., 0., 0.],\n",
              "       [0., 0., 0., 0., 1., 0., 0., 0., 0., 0.],\n",
              "       [0., 1., 0., 0., 0., 0., 0., 0., 0., 0.],\n",
              "       [0., 0., 0., 0., 1., 0., 0., 0., 0., 0.],\n",
              "       [0., 0., 0., 0., 0., 0., 0., 0., 0., 1.],\n",
              "       [0., 0., 0., 0., 0., 1., 0., 0., 0., 0.],\n",
              "       [0., 0., 0., 0., 0., 0., 0., 0., 0., 1.]], dtype=float32)"
            ]
          },
          "metadata": {
            "tags": []
          },
          "execution_count": 157
        }
      ]
    },
    {
      "cell_type": "markdown",
      "metadata": {
        "id": "VNPDYwcS0U-o",
        "colab_type": "text"
      },
      "source": [
        "while using no regularizer, it gave me accuracy of 0.9796. So this might or might not be due to overfitting. Still,\n",
        "while using regularizer l2 with p value 0.05, I got accuracy of 0.9174"
      ]
    },
    {
      "cell_type": "markdown",
      "metadata": {
        "id": "DannzwYT9iWz",
        "colab_type": "text"
      },
      "source": [
        "## SEE YOU IN THE NEXT CODE! "
      ]
    }
  ]
}